{
 "cells": [
  {
   "cell_type": "markdown",
   "metadata": {},
   "source": [
    "# GQN Dataset Viewer\n",
    "Allows to iterate over a GQN dataset with the gqn_input_fn."
   ]
  },
  {
   "cell_type": "code",
   "execution_count": null,
   "metadata": {},
   "outputs": [],
   "source": [
    "'''imports'''\n",
    "# stdlib\n",
    "import os\n",
    "import sys\n",
    "# numerical computing\n",
    "import numpy as np\n",
    "import tensorflow as tf\n",
    "# plotting\n",
    "import imageio\n",
    "import matplotlib.pyplot as plt\n",
    "from mpl_toolkits.axes_grid1 import ImageGrid\n",
    "from IPython.display import Image, display\n",
    "# GQN src\n",
    "root_path = os.path.abspath(os.path.join(os.getcwd(), '..'))\n",
    "sys.path.append(root_path)\n",
    "print(sys.path)\n",
    "from data_provider.gqn_provider import gqn_input_fn"
   ]
  },
  {
   "cell_type": "code",
   "execution_count": null,
   "metadata": {},
   "outputs": [],
   "source": [
    "'''directory setup'''\n",
    "data_dir = os.path.join(root_path, 'data')\n",
    "model_dir = os.path.join(root_path, 'models')\n",
    "tmp_dir = os.path.join(root_path, 'notebooks', 'tmp')\n",
    "gqn_dataset_path = os.path.join(data_dir, 'gqn-dataset')\n",
    "# dataset flags\n",
    "dataset_name = 'rooms_ring_camera'  # one of the GQN dataset names\n",
    "data_path = os.path.join(gqn_dataset_path, dataset_name)\n",
    "print(\"Data path: %s\" % (data_path, ))\n",
    "# tmp\n",
    "notebook_name = 'gqn_dataset'\n",
    "notebook_tmp_path = os.path.join(tmp_dir, notebook_name)\n",
    "os.makedirs(notebook_tmp_path, exist_ok=True)\n",
    "print(\"Tmp path: %s\" % (notebook_tmp_path, ))"
   ]
  },
  {
   "cell_type": "code",
   "execution_count": null,
   "metadata": {},
   "outputs": [],
   "source": [
    "'''data reader setup'''\n",
    "mode = tf.estimator.ModeKeys.EVAL  # one of the tf.estimator.ModeKeys: TRAIN or EVAL\n",
    "ctx_size=5\n",
    "batch_size=10\n",
    "tf.reset_default_graph()\n",
    "dataset = gqn_input_fn(\n",
    "        dataset_name=dataset_name, root=gqn_dataset_path, mode=mode,\n",
    "        context_size=ctx_size, batch_size=batch_size, num_epochs=1,\n",
    "        num_threads=4, buffer_size=1)\n",
    "iterator = dataset.make_initializable_iterator()\n",
    "data = iterator.get_next()"
   ]
  },
  {
   "cell_type": "code",
   "execution_count": null,
   "metadata": {},
   "outputs": [],
   "source": [
    "'''session setup'''\n",
    "os.environ['CUDA_VISIBLE_DEVICES'] = ''  # run on CPU only\n",
    "try:\n",
    "    sess.close()\n",
    "except:\n",
    "    pass\n",
    "sess = tf.InteractiveSession()\n",
    "sess.run(iterator.initializer)"
   ]
  },
  {
   "cell_type": "code",
   "execution_count": null,
   "metadata": {},
   "outputs": [],
   "source": [
    "'''data visualization'''\n",
    "skip_load = 1  # adjust this to skip through records\n",
    "\n",
    "# fetch & parse\n",
    "for _ in range(skip_load):\n",
    "    d, _ = sess.run(data)\n",
    "ctx_frames = d.query.context.frames\n",
    "ctx_poses = d.query.context.cameras\n",
    "tgt_frame = d.target\n",
    "tgt_pose = d.query.query_camera\n",
    "tuple_length = ctx_size + 1  # context points + 1 target\n",
    "print(\">>> Context frames:\\t%s\" % (ctx_frames.shape, ))\n",
    "print(\">>> Context poses: \\t%s\" % (ctx_poses.shape, ))\n",
    "print(\">>> Target frame:  \\t%s\" % (tgt_frame.shape, ))\n",
    "print(\">>> Target pose:   \\t%s\" % (tgt_pose.shape, ))\n",
    "\n",
    "# visualization constants\n",
    "MAX_COLS_PER_ROW = 6\n",
    "TILE_HEIGHT, TILE_WIDTH, TILE_PAD = 3.0, 3.0, 0.8\n",
    "np.set_printoptions(precision=2, suppress=True)\n",
    "\n",
    "# visualize all data tuples in the batch\n",
    "for n in range(batch_size):\n",
    "    # define image grid\n",
    "    ncols = int(np.min([tuple_length, MAX_COLS_PER_ROW]))\n",
    "    nrows = int(np.ceil(tuple_length / MAX_COLS_PER_ROW))\n",
    "    fig = plt.figure(figsize=(TILE_WIDTH * ncols, TILE_HEIGHT * nrows))\n",
    "    grid = ImageGrid(\n",
    "        fig, 111,  # similar to subplot(111)\n",
    "        nrows_ncols=(nrows, ncols),\n",
    "        axes_pad=TILE_PAD,  # pad between axes in inch.\n",
    "    )\n",
    "    # visualize context\n",
    "    for ctx_idx in range(ctx_size):\n",
    "        rgb = ctx_frames[n, ctx_idx]\n",
    "        pose = ctx_poses[n, ctx_idx]\n",
    "        caption = \"ctx: %02d\\nxyz:%s\\nyp:%s\" % \\\n",
    "            (ctx_idx + 1, pose[0:3], pose[3:])\n",
    "        grid[ctx_idx].imshow(rgb)\n",
    "        grid[ctx_idx].set_title(caption, loc='center')\n",
    "    # visualize target\n",
    "    rgb = tgt_frame[n]\n",
    "    pose = tgt_pose[n]\n",
    "    caption = \"target\\nxyz:%s\\nyp:%s\" % \\\n",
    "        (pose[0:3], pose[3:])\n",
    "    grid[-1].imshow(rgb)\n",
    "    grid[-1].set_title(caption, loc='center')\n",
    "    plt.show()"
   ]
  },
  {
   "cell_type": "code",
   "execution_count": null,
   "metadata": {},
   "outputs": [],
   "source": []
  }
 ],
 "metadata": {
  "kernelspec": {
   "display_name": "Python 3",
   "language": "python",
   "name": "python3"
  },
  "language_info": {
   "codemirror_mode": {
    "name": "ipython",
    "version": 3
   },
   "file_extension": ".py",
   "mimetype": "text/x-python",
   "name": "python",
   "nbconvert_exporter": "python",
   "pygments_lexer": "ipython3"
  }
 },
 "nbformat": 4,
 "nbformat_minor": 2
}
